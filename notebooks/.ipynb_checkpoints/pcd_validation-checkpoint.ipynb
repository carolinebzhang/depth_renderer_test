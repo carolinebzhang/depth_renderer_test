{
 "cells": [
  {
   "cell_type": "code",
   "execution_count": 8,
   "id": "6e6321dc",
   "metadata": {},
   "outputs": [
    {
     "name": "stdout",
     "output_type": "stream",
     "text": [
      "rgb image : /home/aditya/Research/phd/code/depth_renderer/datasets/ShapeNetRenderings/02818832/e91c2df09de0d4b1ed4d676215f46734/color_002.png, depth image : /home/aditya/Research/phd/code/depth_renderer/datasets/ShapeNetRenderings/02818832/e91c2df09de0d4b1ed4d676215f46734/depth_002.exr, camera transform : /home/aditya/Research/phd/code/depth_renderer/datasets/camera_settings/cam_RT/cam_RT_002.txt\n"
     ]
    }
   ],
   "source": [
    "# generate the pointcloud from a specific viewpoint \n",
    "import random\n",
    "from glob import glob \n",
    "import os\n",
    "os.environ[\"OPENCV_IO_ENABLE_OPENEXR\"]=\"1\"\n",
    "\n",
    "dirpath = '/home/aditya/Research/phd/code/depth_renderer/datasets/ShapeNetRenderings/02818832/e91c2df09de0d4b1ed4d676215f46734/'\n",
    "camera_path = '/home/aditya/Research/phd/code/depth_renderer/datasets/camera_settings/cam_RT/'\n",
    "\n",
    "color_images = sorted(glob(dirpath + '/*.png'))\n",
    "depth_images = sorted(glob(dirpath + '/*.exr'))\n",
    "camera_transforms = sorted(glob(camera_path + '/*.txt'))\n",
    "\n",
    "random_idx = random.randint(0, len(color_images)-1)\n",
    "\n",
    "rgb_image = color_images[random_idx]\n",
    "depth_image = depth_images[random_idx]\n",
    "camera_transform = camera_transforms[random_idx]\n",
    "\n",
    "print(f'rgb image : {rgb_image}, depth image : {depth_image}, camera transform : {camera_transform}')"
   ]
  },
  {
   "cell_type": "code",
   "execution_count": 9,
   "id": "81878efa",
   "metadata": {},
   "outputs": [
    {
     "name": "stderr",
     "output_type": "stream",
     "text": [
      "[ WARN:0@72.313] global grfmt_exr.cpp:102 initOpenEXR imgcodecs: OpenEXR codec is disabled. You can enable it via 'OPENCV_IO_ENABLE_OPENEXR' option. Refer for details and cautions here: https://github.com/opencv/opencv/issues/21326\n"
     ]
    },
    {
     "ename": "error",
     "evalue": "OpenCV(4.9.0) /io/opencv/modules/imgcodecs/src/grfmt_exr.cpp:103: error: (-213:The function/feature is not implemented) imgcodecs: OpenEXR codec is disabled. You can enable it via 'OPENCV_IO_ENABLE_OPENEXR' option. Refer for details and cautions here: https://github.com/opencv/opencv/issues/21326 in function 'initOpenEXR'\n",
     "output_type": "error",
     "traceback": [
      "\u001b[0;31m---------------------------------------------------------------------------\u001b[0m",
      "\u001b[0;31merror\u001b[0m                                     Traceback (most recent call last)",
      "Cell \u001b[0;32mIn[9], line 5\u001b[0m\n\u001b[1;32m      2\u001b[0m \u001b[38;5;28;01mimport\u001b[39;00m \u001b[38;5;21;01mcv2\u001b[39;00m\n\u001b[1;32m      4\u001b[0m rgb \u001b[38;5;241m=\u001b[39m cv2\u001b[38;5;241m.\u001b[39mcvtColor(cv2\u001b[38;5;241m.\u001b[39mimread(rgb_image), cv2\u001b[38;5;241m.\u001b[39mCOLOR_BGR2RGB)\n\u001b[0;32m----> 5\u001b[0m depth \u001b[38;5;241m=\u001b[39m \u001b[43mcv2\u001b[49m\u001b[38;5;241;43m.\u001b[39;49m\u001b[43mimread\u001b[49m\u001b[43m(\u001b[49m\u001b[43mdepth_image\u001b[49m\u001b[43m,\u001b[49m\u001b[43m \u001b[49m\u001b[43mcv2\u001b[49m\u001b[38;5;241;43m.\u001b[39;49m\u001b[43mIMREAD_ANYDEPTH\u001b[49m\u001b[43m)\u001b[49m\n\u001b[1;32m      7\u001b[0m plt\u001b[38;5;241m.\u001b[39mimshow(image)\n",
      "\u001b[0;31merror\u001b[0m: OpenCV(4.9.0) /io/opencv/modules/imgcodecs/src/grfmt_exr.cpp:103: error: (-213:The function/feature is not implemented) imgcodecs: OpenEXR codec is disabled. You can enable it via 'OPENCV_IO_ENABLE_OPENEXR' option. Refer for details and cautions here: https://github.com/opencv/opencv/issues/21326 in function 'initOpenEXR'\n"
     ]
    }
   ],
   "source": [
    "import matplotlib.pyplot as plt \n",
    "import cv2\n",
    "\n",
    "rgb = cv2.cvtColor(cv2.imread(rgb_image), cv2.COLOR_BGR2RGB)\n",
    "depth = cv2.imread(depth_image, cv2.IMREAD_ANYDEPTH)\n",
    "\n",
    "plt.imshow(image)"
   ]
  }
 ],
 "metadata": {
  "kernelspec": {
   "display_name": "blender",
   "language": "python",
   "name": "blender"
  },
  "language_info": {
   "codemirror_mode": {
    "name": "ipython",
    "version": 3
   },
   "file_extension": ".py",
   "mimetype": "text/x-python",
   "name": "python",
   "nbconvert_exporter": "python",
   "pygments_lexer": "ipython3",
   "version": "3.10.8"
  }
 },
 "nbformat": 4,
 "nbformat_minor": 5
}
